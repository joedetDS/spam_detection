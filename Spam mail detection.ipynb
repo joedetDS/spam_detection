{
 "cells": [
  {
   "cell_type": "markdown",
   "id": "80aa5c8d",
   "metadata": {},
   "source": [
    "# 📚 Importing Libraries"
   ]
  },
  {
   "cell_type": "code",
   "execution_count": 1,
   "id": "4099fe44",
   "metadata": {},
   "outputs": [],
   "source": [
    "import numpy as np\n",
    "import pandas as pd\n",
    "import time\n",
    "\n",
    "from sklearn.linear_model import LogisticRegression\n",
    "from sklearn.tree import DecisionTreeClassifier\n",
    "from sklearn.ensemble import RandomForestClassifier\n",
    "from sklearn.svm import SVC\n",
    "from sklearn.neighbors import KNeighborsClassifier\n",
    "from sklearn.metrics import accuracy_score,f1_score,recall_score,precision_score\n",
    "\n",
    "import warnings\n",
    "warnings.filterwarnings('ignore')"
   ]
  },
  {
   "cell_type": "markdown",
   "id": "1b49fd5e",
   "metadata": {},
   "source": [
    "**The csv file isn't actually encoded in UTF-8. It contains the latin-1 encoding which must be specified when the data is read in. Else, it wil be interpreted wrongly**"
   ]
  },
  {
   "cell_type": "markdown",
   "id": "e1051c86",
   "metadata": {},
   "source": [
    "# 🧾 Load Data"
   ]
  },
  {
   "cell_type": "code",
   "execution_count": 2,
   "id": "4a1d553e",
   "metadata": {
    "scrolled": true
   },
   "outputs": [],
   "source": [
    "mail=pd.read_csv(r'spam.csv', encoding='latin-1')"
   ]
  },
  {
   "cell_type": "code",
   "execution_count": 3,
   "id": "d0ff6ed3",
   "metadata": {},
   "outputs": [
    {
     "data": {
      "text/html": [
       "<div>\n",
       "<style scoped>\n",
       "    .dataframe tbody tr th:only-of-type {\n",
       "        vertical-align: middle;\n",
       "    }\n",
       "\n",
       "    .dataframe tbody tr th {\n",
       "        vertical-align: top;\n",
       "    }\n",
       "\n",
       "    .dataframe thead th {\n",
       "        text-align: right;\n",
       "    }\n",
       "</style>\n",
       "<table border=\"1\" class=\"dataframe\">\n",
       "  <thead>\n",
       "    <tr style=\"text-align: right;\">\n",
       "      <th></th>\n",
       "      <th>v1</th>\n",
       "      <th>v2</th>\n",
       "      <th>Unnamed: 2</th>\n",
       "      <th>Unnamed: 3</th>\n",
       "      <th>Unnamed: 4</th>\n",
       "    </tr>\n",
       "  </thead>\n",
       "  <tbody>\n",
       "    <tr>\n",
       "      <th>0</th>\n",
       "      <td>ham</td>\n",
       "      <td>Go until jurong point, crazy.. Available only ...</td>\n",
       "      <td>NaN</td>\n",
       "      <td>NaN</td>\n",
       "      <td>NaN</td>\n",
       "    </tr>\n",
       "    <tr>\n",
       "      <th>1</th>\n",
       "      <td>ham</td>\n",
       "      <td>Ok lar... Joking wif u oni...</td>\n",
       "      <td>NaN</td>\n",
       "      <td>NaN</td>\n",
       "      <td>NaN</td>\n",
       "    </tr>\n",
       "    <tr>\n",
       "      <th>2</th>\n",
       "      <td>spam</td>\n",
       "      <td>Free entry in 2 a wkly comp to win FA Cup fina...</td>\n",
       "      <td>NaN</td>\n",
       "      <td>NaN</td>\n",
       "      <td>NaN</td>\n",
       "    </tr>\n",
       "    <tr>\n",
       "      <th>3</th>\n",
       "      <td>ham</td>\n",
       "      <td>U dun say so early hor... U c already then say...</td>\n",
       "      <td>NaN</td>\n",
       "      <td>NaN</td>\n",
       "      <td>NaN</td>\n",
       "    </tr>\n",
       "    <tr>\n",
       "      <th>4</th>\n",
       "      <td>ham</td>\n",
       "      <td>Nah I don't think he goes to usf, he lives aro...</td>\n",
       "      <td>NaN</td>\n",
       "      <td>NaN</td>\n",
       "      <td>NaN</td>\n",
       "    </tr>\n",
       "  </tbody>\n",
       "</table>\n",
       "</div>"
      ],
      "text/plain": [
       "     v1                                                 v2 Unnamed: 2  \\\n",
       "0   ham  Go until jurong point, crazy.. Available only ...        NaN   \n",
       "1   ham                      Ok lar... Joking wif u oni...        NaN   \n",
       "2  spam  Free entry in 2 a wkly comp to win FA Cup fina...        NaN   \n",
       "3   ham  U dun say so early hor... U c already then say...        NaN   \n",
       "4   ham  Nah I don't think he goes to usf, he lives aro...        NaN   \n",
       "\n",
       "  Unnamed: 3 Unnamed: 4  \n",
       "0        NaN        NaN  \n",
       "1        NaN        NaN  \n",
       "2        NaN        NaN  \n",
       "3        NaN        NaN  \n",
       "4        NaN        NaN  "
      ]
     },
     "execution_count": 3,
     "metadata": {},
     "output_type": "execute_result"
    }
   ],
   "source": [
    "mail.head()"
   ]
  },
  {
   "cell_type": "markdown",
   "id": "e84557c7",
   "metadata": {},
   "source": [
    "# ⚙Data Cleaning and Preprocessing"
   ]
  },
  {
   "cell_type": "code",
   "execution_count": 4,
   "id": "ac5302a0",
   "metadata": {},
   "outputs": [
    {
     "data": {
      "text/plain": [
       "Index(['v1', 'v2', 'Unnamed: 2', 'Unnamed: 3', 'Unnamed: 4'], dtype='object')"
      ]
     },
     "execution_count": 4,
     "metadata": {},
     "output_type": "execute_result"
    }
   ],
   "source": [
    "mail.columns"
   ]
  },
  {
   "cell_type": "code",
   "execution_count": 5,
   "id": "f30512d5",
   "metadata": {},
   "outputs": [
    {
     "data": {
      "text/html": [
       "<div>\n",
       "<style scoped>\n",
       "    .dataframe tbody tr th:only-of-type {\n",
       "        vertical-align: middle;\n",
       "    }\n",
       "\n",
       "    .dataframe tbody tr th {\n",
       "        vertical-align: top;\n",
       "    }\n",
       "\n",
       "    .dataframe thead th {\n",
       "        text-align: right;\n",
       "    }\n",
       "</style>\n",
       "<table border=\"1\" class=\"dataframe\">\n",
       "  <thead>\n",
       "    <tr style=\"text-align: right;\">\n",
       "      <th></th>\n",
       "      <th>v1</th>\n",
       "      <th>v2</th>\n",
       "      <th>Unnamed: 2</th>\n",
       "      <th>Unnamed: 3</th>\n",
       "      <th>Unnamed: 4</th>\n",
       "    </tr>\n",
       "  </thead>\n",
       "  <tbody>\n",
       "    <tr>\n",
       "      <th>count</th>\n",
       "      <td>5572</td>\n",
       "      <td>5572</td>\n",
       "      <td>50</td>\n",
       "      <td>12</td>\n",
       "      <td>6</td>\n",
       "    </tr>\n",
       "    <tr>\n",
       "      <th>unique</th>\n",
       "      <td>2</td>\n",
       "      <td>5169</td>\n",
       "      <td>43</td>\n",
       "      <td>10</td>\n",
       "      <td>5</td>\n",
       "    </tr>\n",
       "    <tr>\n",
       "      <th>top</th>\n",
       "      <td>ham</td>\n",
       "      <td>Sorry, I'll call later</td>\n",
       "      <td>bt not his girlfrnd... G o o d n i g h t . . .@\"</td>\n",
       "      <td>MK17 92H. 450Ppw 16\"</td>\n",
       "      <td>GNT:-)\"</td>\n",
       "    </tr>\n",
       "    <tr>\n",
       "      <th>freq</th>\n",
       "      <td>4825</td>\n",
       "      <td>30</td>\n",
       "      <td>3</td>\n",
       "      <td>2</td>\n",
       "      <td>2</td>\n",
       "    </tr>\n",
       "  </tbody>\n",
       "</table>\n",
       "</div>"
      ],
      "text/plain": [
       "          v1                      v2  \\\n",
       "count   5572                    5572   \n",
       "unique     2                    5169   \n",
       "top      ham  Sorry, I'll call later   \n",
       "freq    4825                      30   \n",
       "\n",
       "                                               Unnamed: 2  \\\n",
       "count                                                  50   \n",
       "unique                                                 43   \n",
       "top      bt not his girlfrnd... G o o d n i g h t . . .@\"   \n",
       "freq                                                    3   \n",
       "\n",
       "                   Unnamed: 3 Unnamed: 4  \n",
       "count                      12          6  \n",
       "unique                     10          5  \n",
       "top      MK17 92H. 450Ppw 16\"    GNT:-)\"  \n",
       "freq                        2          2  "
      ]
     },
     "execution_count": 5,
     "metadata": {},
     "output_type": "execute_result"
    }
   ],
   "source": [
    "#statistical information\n",
    "mail.describe()"
   ]
  },
  {
   "cell_type": "code",
   "execution_count": 6,
   "id": "4f826fe6",
   "metadata": {},
   "outputs": [
    {
     "name": "stdout",
     "output_type": "stream",
     "text": [
      "<class 'pandas.core.frame.DataFrame'>\n",
      "RangeIndex: 5572 entries, 0 to 5571\n",
      "Data columns (total 5 columns):\n",
      " #   Column      Non-Null Count  Dtype \n",
      "---  ------      --------------  ----- \n",
      " 0   v1          5572 non-null   object\n",
      " 1   v2          5572 non-null   object\n",
      " 2   Unnamed: 2  50 non-null     object\n",
      " 3   Unnamed: 3  12 non-null     object\n",
      " 4   Unnamed: 4  6 non-null      object\n",
      "dtypes: object(5)\n",
      "memory usage: 217.8+ KB\n"
     ]
    }
   ],
   "source": [
    "mail.info()"
   ]
  },
  {
   "cell_type": "code",
   "execution_count": 7,
   "id": "9c80d61f",
   "metadata": {},
   "outputs": [
    {
     "data": {
      "text/plain": [
       "v1               0\n",
       "v2               0\n",
       "Unnamed: 2    5522\n",
       "Unnamed: 3    5560\n",
       "Unnamed: 4    5566\n",
       "dtype: int64"
      ]
     },
     "execution_count": 7,
     "metadata": {},
     "output_type": "execute_result"
    }
   ],
   "source": [
    "mail.isna().sum()"
   ]
  },
  {
   "cell_type": "markdown",
   "id": "99b9198a",
   "metadata": {},
   "source": [
    "### The data contains some function which are null and as at such the columns can be dropped"
   ]
  },
  {
   "cell_type": "code",
   "execution_count": 8,
   "id": "bae9efa1",
   "metadata": {},
   "outputs": [],
   "source": [
    "mail.drop(['Unnamed: 2','Unnamed: 3',\"Unnamed: 4\"],axis=1,inplace=True)"
   ]
  },
  {
   "cell_type": "code",
   "execution_count": 9,
   "id": "86ba8f4a",
   "metadata": {
    "scrolled": true
   },
   "outputs": [
    {
     "data": {
      "text/plain": [
       "v1    0\n",
       "v2    0\n",
       "dtype: int64"
      ]
     },
     "execution_count": 9,
     "metadata": {},
     "output_type": "execute_result"
    }
   ],
   "source": [
    "mail.isna().sum()"
   ]
  },
  {
   "cell_type": "code",
   "execution_count": 10,
   "id": "5f55c627",
   "metadata": {
    "scrolled": true
   },
   "outputs": [
    {
     "data": {
      "text/plain": [
       "403"
      ]
     },
     "execution_count": 10,
     "metadata": {},
     "output_type": "execute_result"
    }
   ],
   "source": [
    "mail.duplicated().sum()"
   ]
  },
  {
   "cell_type": "code",
   "execution_count": 11,
   "id": "64a191e1",
   "metadata": {},
   "outputs": [],
   "source": [
    "mail.drop_duplicates(keep='first',inplace=True)"
   ]
  },
  {
   "cell_type": "code",
   "execution_count": 12,
   "id": "28c9a069",
   "metadata": {},
   "outputs": [
    {
     "data": {
      "text/html": [
       "<div>\n",
       "<style scoped>\n",
       "    .dataframe tbody tr th:only-of-type {\n",
       "        vertical-align: middle;\n",
       "    }\n",
       "\n",
       "    .dataframe tbody tr th {\n",
       "        vertical-align: top;\n",
       "    }\n",
       "\n",
       "    .dataframe thead th {\n",
       "        text-align: right;\n",
       "    }\n",
       "</style>\n",
       "<table border=\"1\" class=\"dataframe\">\n",
       "  <thead>\n",
       "    <tr style=\"text-align: right;\">\n",
       "      <th></th>\n",
       "      <th>v1</th>\n",
       "      <th>v2</th>\n",
       "    </tr>\n",
       "  </thead>\n",
       "  <tbody>\n",
       "    <tr>\n",
       "      <th>0</th>\n",
       "      <td>ham</td>\n",
       "      <td>Go until jurong point, crazy.. Available only ...</td>\n",
       "    </tr>\n",
       "    <tr>\n",
       "      <th>1</th>\n",
       "      <td>ham</td>\n",
       "      <td>Ok lar... Joking wif u oni...</td>\n",
       "    </tr>\n",
       "    <tr>\n",
       "      <th>2</th>\n",
       "      <td>spam</td>\n",
       "      <td>Free entry in 2 a wkly comp to win FA Cup fina...</td>\n",
       "    </tr>\n",
       "    <tr>\n",
       "      <th>3</th>\n",
       "      <td>ham</td>\n",
       "      <td>U dun say so early hor... U c already then say...</td>\n",
       "    </tr>\n",
       "    <tr>\n",
       "      <th>4</th>\n",
       "      <td>ham</td>\n",
       "      <td>Nah I don't think he goes to usf, he lives aro...</td>\n",
       "    </tr>\n",
       "  </tbody>\n",
       "</table>\n",
       "</div>"
      ],
      "text/plain": [
       "     v1                                                 v2\n",
       "0   ham  Go until jurong point, crazy.. Available only ...\n",
       "1   ham                      Ok lar... Joking wif u oni...\n",
       "2  spam  Free entry in 2 a wkly comp to win FA Cup fina...\n",
       "3   ham  U dun say so early hor... U c already then say...\n",
       "4   ham  Nah I don't think he goes to usf, he lives aro..."
      ]
     },
     "execution_count": 12,
     "metadata": {},
     "output_type": "execute_result"
    }
   ],
   "source": [
    "mail.head()"
   ]
  },
  {
   "cell_type": "code",
   "execution_count": 13,
   "id": "821c3f16",
   "metadata": {},
   "outputs": [
    {
     "data": {
      "text/plain": [
       "0"
      ]
     },
     "execution_count": 13,
     "metadata": {},
     "output_type": "execute_result"
    }
   ],
   "source": [
    "mail.duplicated().sum()"
   ]
  },
  {
   "cell_type": "code",
   "execution_count": 14,
   "id": "22587cda",
   "metadata": {},
   "outputs": [
    {
     "data": {
      "text/plain": [
       "array(['ham', 'spam'], dtype=object)"
      ]
     },
     "execution_count": 14,
     "metadata": {},
     "output_type": "execute_result"
    }
   ],
   "source": [
    "mail['v1'].unique()"
   ]
  },
  {
   "cell_type": "code",
   "execution_count": 15,
   "id": "baeb8206",
   "metadata": {},
   "outputs": [
    {
     "data": {
      "text/plain": [
       "(5169, 2)"
      ]
     },
     "execution_count": 15,
     "metadata": {},
     "output_type": "execute_result"
    }
   ],
   "source": [
    "mail.shape"
   ]
  },
  {
   "cell_type": "code",
   "execution_count": 16,
   "id": "9305e03f",
   "metadata": {
    "scrolled": true
   },
   "outputs": [
    {
     "data": {
      "text/plain": [
       "ham     4516\n",
       "spam     653\n",
       "Name: v1, dtype: int64"
      ]
     },
     "execution_count": 16,
     "metadata": {},
     "output_type": "execute_result"
    }
   ],
   "source": [
    "mail['v1'].value_counts()"
   ]
  },
  {
   "cell_type": "code",
   "execution_count": 17,
   "id": "8fa2323e",
   "metadata": {},
   "outputs": [],
   "source": [
    "import matplotlib.pyplot as plt\n",
    "import seaborn as sns"
   ]
  },
  {
   "cell_type": "code",
   "execution_count": 18,
   "id": "5259947a",
   "metadata": {},
   "outputs": [
    {
     "data": {
      "text/plain": [
       "<function matplotlib.pyplot.plot(*args, scalex=True, scaley=True, data=None, **kwargs)>"
      ]
     },
     "execution_count": 18,
     "metadata": {},
     "output_type": "execute_result"
    },
    {
     "data": {
      "image/png": "[encoded data removed]",
      "text/plain": [
       "<Figure size 432x288 with 1 Axes>"
      ]
     },
     "metadata": {},
     "output_type": "display_data"
    }
   ],
   "source": [
    "sns.set_style(\"whitegrid\")\n",
    "plt.title('Distribution of Spam and Ham mails')\n",
    "sns.countplot(mail['v1'])\n",
    "plt.plot"
   ]
  },
  {
   "cell_type": "markdown",
   "id": "c001e9be",
   "metadata": {},
   "source": [
    "The mails look imbalanced, so we can balance the dataset by ensuring the number of spam mail is equivalen to the ham mails"
   ]
  },
  {
   "cell_type": "code",
   "execution_count": 19,
   "id": "bedf360b",
   "metadata": {},
   "outputs": [],
   "source": [
    "# Balancing the dataset by breaking it into spam and ham mails\n",
    "ham=mail[mail['v1']=='ham']\n",
    "spam=mail[mail['v1']=='spam']"
   ]
  },
  {
   "cell_type": "code",
   "execution_count": 20,
   "id": "953ee126",
   "metadata": {},
   "outputs": [
    {
     "name": "stdout",
     "output_type": "stream",
     "text": [
      "(4516, 2)\n",
      "(653, 2)\n"
     ]
    }
   ],
   "source": [
    "print(ham.shape)\n",
    "print(spam.shape)"
   ]
  },
  {
   "cell_type": "code",
   "execution_count": 21,
   "id": "b8fff1ff",
   "metadata": {},
   "outputs": [],
   "source": [
    "ham=ham.sample(800)"
   ]
  },
  {
   "cell_type": "code",
   "execution_count": 22,
   "id": "4aa40706",
   "metadata": {
    "scrolled": true
   },
   "outputs": [
    {
     "data": {
      "text/plain": [
       "(800, 2)"
      ]
     },
     "execution_count": 22,
     "metadata": {},
     "output_type": "execute_result"
    }
   ],
   "source": [
    "ham.shape"
   ]
  },
  {
   "cell_type": "code",
   "execution_count": 23,
   "id": "6a0c9741",
   "metadata": {},
   "outputs": [
    {
     "data": {
      "text/html": [
       "<div>\n",
       "<style scoped>\n",
       "    .dataframe tbody tr th:only-of-type {\n",
       "        vertical-align: middle;\n",
       "    }\n",
       "\n",
       "    .dataframe tbody tr th {\n",
       "        vertical-align: top;\n",
       "    }\n",
       "\n",
       "    .dataframe thead th {\n",
       "        text-align: right;\n",
       "    }\n",
       "</style>\n",
       "<table border=\"1\" class=\"dataframe\">\n",
       "  <thead>\n",
       "    <tr style=\"text-align: right;\">\n",
       "      <th></th>\n",
       "      <th>v1</th>\n",
       "      <th>v2</th>\n",
       "    </tr>\n",
       "  </thead>\n",
       "  <tbody>\n",
       "    <tr>\n",
       "      <th>746</th>\n",
       "      <td>ham</td>\n",
       "      <td>I promise to take good care of you, princess. ...</td>\n",
       "    </tr>\n",
       "    <tr>\n",
       "      <th>3541</th>\n",
       "      <td>ham</td>\n",
       "      <td>ÌÏ come lt 25 n pass to me lar</td>\n",
       "    </tr>\n",
       "    <tr>\n",
       "      <th>4221</th>\n",
       "      <td>ham</td>\n",
       "      <td>Yo you around? A friend of mine's lookin to pi...</td>\n",
       "    </tr>\n",
       "    <tr>\n",
       "      <th>4436</th>\n",
       "      <td>ham</td>\n",
       "      <td>How come u got nothing to do?</td>\n",
       "    </tr>\n",
       "    <tr>\n",
       "      <th>4847</th>\n",
       "      <td>ham</td>\n",
       "      <td>S.this will increase the chance of winning.</td>\n",
       "    </tr>\n",
       "    <tr>\n",
       "      <th>...</th>\n",
       "      <td>...</td>\n",
       "      <td>...</td>\n",
       "    </tr>\n",
       "    <tr>\n",
       "      <th>416</th>\n",
       "      <td>ham</td>\n",
       "      <td>Alright i have a new goal now</td>\n",
       "    </tr>\n",
       "    <tr>\n",
       "      <th>4510</th>\n",
       "      <td>ham</td>\n",
       "      <td>Sorry I missed you babe. I was up late and sle...</td>\n",
       "    </tr>\n",
       "    <tr>\n",
       "      <th>4972</th>\n",
       "      <td>ham</td>\n",
       "      <td>Oops I was in the shower when u called. Hey a ...</td>\n",
       "    </tr>\n",
       "    <tr>\n",
       "      <th>487</th>\n",
       "      <td>ham</td>\n",
       "      <td>Dear reached railway. What happen to you</td>\n",
       "    </tr>\n",
       "    <tr>\n",
       "      <th>5146</th>\n",
       "      <td>ham</td>\n",
       "      <td>Oh unintentionally not bad timing. Great. Fing...</td>\n",
       "    </tr>\n",
       "  </tbody>\n",
       "</table>\n",
       "<p>800 rows × 2 columns</p>\n",
       "</div>"
      ],
      "text/plain": [
       "       v1                                                 v2\n",
       "746   ham  I promise to take good care of you, princess. ...\n",
       "3541  ham                     ÌÏ come lt 25 n pass to me lar\n",
       "4221  ham  Yo you around? A friend of mine's lookin to pi...\n",
       "4436  ham                      How come u got nothing to do?\n",
       "4847  ham        S.this will increase the chance of winning.\n",
       "...   ...                                                ...\n",
       "416   ham                      Alright i have a new goal now\n",
       "4510  ham  Sorry I missed you babe. I was up late and sle...\n",
       "4972  ham  Oops I was in the shower when u called. Hey a ...\n",
       "487   ham           Dear reached railway. What happen to you\n",
       "5146  ham  Oh unintentionally not bad timing. Great. Fing...\n",
       "\n",
       "[800 rows x 2 columns]"
      ]
     },
     "execution_count": 23,
     "metadata": {},
     "output_type": "execute_result"
    }
   ],
   "source": [
    "ham"
   ]
  },
  {
   "cell_type": "code",
   "execution_count": 24,
   "id": "ad74e5c3",
   "metadata": {},
   "outputs": [],
   "source": [
    "# Concatenate the new ham dataset with the existing spam dataset\n",
    "mail=pd.concat([spam,ham],ignore_index=True)"
   ]
  },
  {
   "cell_type": "code",
   "execution_count": 25,
   "id": "d0c14b14",
   "metadata": {
    "scrolled": true
   },
   "outputs": [
    {
     "data": {
      "text/plain": [
       "(1453, 2)"
      ]
     },
     "execution_count": 25,
     "metadata": {},
     "output_type": "execute_result"
    }
   ],
   "source": [
    "mail.shape"
   ]
  },
  {
   "cell_type": "code",
   "execution_count": 26,
   "id": "77c27bb0",
   "metadata": {},
   "outputs": [
    {
     "data": {
      "text/plain": [
       "<function matplotlib.pyplot.plot(*args, scalex=True, scaley=True, data=None, **kwargs)>"
      ]
     },
     "execution_count": 26,
     "metadata": {},
     "output_type": "execute_result"
    },
    {
     "data": {
      "image/png": "[encoded data removed]",
      "text/plain": [
       "<Figure size 432x288 with 1 Axes>"
      ]
     },
     "metadata": {},
     "output_type": "display_data"
    }
   ],
   "source": [
    "sns.set_style(\"whitegrid\")\n",
    "plt.title('Distribution of Spam and Ham mails')\n",
    "sns.countplot(mail['v1'])\n",
    "plt.plot"
   ]
  },
  {
   "cell_type": "code",
   "execution_count": 27,
   "id": "53952ea8",
   "metadata": {},
   "outputs": [
    {
     "data": {
      "text/plain": [
       "ham     800\n",
       "spam    653\n",
       "Name: v1, dtype: int64"
      ]
     },
     "execution_count": 27,
     "metadata": {},
     "output_type": "execute_result"
    }
   ],
   "source": [
    "mail['v1'].value_counts()"
   ]
  },
  {
   "cell_type": "code",
   "execution_count": 28,
   "id": "eedfbd88",
   "metadata": {},
   "outputs": [
    {
     "data": {
      "text/html": [
       "<div>\n",
       "<style scoped>\n",
       "    .dataframe tbody tr th:only-of-type {\n",
       "        vertical-align: middle;\n",
       "    }\n",
       "\n",
       "    .dataframe tbody tr th {\n",
       "        vertical-align: top;\n",
       "    }\n",
       "\n",
       "    .dataframe thead th {\n",
       "        text-align: right;\n",
       "    }\n",
       "</style>\n",
       "<table border=\"1\" class=\"dataframe\">\n",
       "  <thead>\n",
       "    <tr style=\"text-align: right;\">\n",
       "      <th></th>\n",
       "      <th>v1</th>\n",
       "      <th>v2</th>\n",
       "    </tr>\n",
       "  </thead>\n",
       "  <tbody>\n",
       "    <tr>\n",
       "      <th>0</th>\n",
       "      <td>spam</td>\n",
       "      <td>Free entry in 2 a wkly comp to win FA Cup fina...</td>\n",
       "    </tr>\n",
       "    <tr>\n",
       "      <th>1</th>\n",
       "      <td>spam</td>\n",
       "      <td>FreeMsg Hey there darling it's been 3 week's n...</td>\n",
       "    </tr>\n",
       "    <tr>\n",
       "      <th>2</th>\n",
       "      <td>spam</td>\n",
       "      <td>WINNER!! As a valued network customer you have...</td>\n",
       "    </tr>\n",
       "    <tr>\n",
       "      <th>3</th>\n",
       "      <td>spam</td>\n",
       "      <td>Had your mobile 11 months or more? U R entitle...</td>\n",
       "    </tr>\n",
       "    <tr>\n",
       "      <th>4</th>\n",
       "      <td>spam</td>\n",
       "      <td>SIX chances to win CASH! From 100 to 20,000 po...</td>\n",
       "    </tr>\n",
       "    <tr>\n",
       "      <th>...</th>\n",
       "      <td>...</td>\n",
       "      <td>...</td>\n",
       "    </tr>\n",
       "    <tr>\n",
       "      <th>1448</th>\n",
       "      <td>ham</td>\n",
       "      <td>Alright i have a new goal now</td>\n",
       "    </tr>\n",
       "    <tr>\n",
       "      <th>1449</th>\n",
       "      <td>ham</td>\n",
       "      <td>Sorry I missed you babe. I was up late and sle...</td>\n",
       "    </tr>\n",
       "    <tr>\n",
       "      <th>1450</th>\n",
       "      <td>ham</td>\n",
       "      <td>Oops I was in the shower when u called. Hey a ...</td>\n",
       "    </tr>\n",
       "    <tr>\n",
       "      <th>1451</th>\n",
       "      <td>ham</td>\n",
       "      <td>Dear reached railway. What happen to you</td>\n",
       "    </tr>\n",
       "    <tr>\n",
       "      <th>1452</th>\n",
       "      <td>ham</td>\n",
       "      <td>Oh unintentionally not bad timing. Great. Fing...</td>\n",
       "    </tr>\n",
       "  </tbody>\n",
       "</table>\n",
       "<p>1453 rows × 2 columns</p>\n",
       "</div>"
      ],
      "text/plain": [
       "        v1                                                 v2\n",
       "0     spam  Free entry in 2 a wkly comp to win FA Cup fina...\n",
       "1     spam  FreeMsg Hey there darling it's been 3 week's n...\n",
       "2     spam  WINNER!! As a valued network customer you have...\n",
       "3     spam  Had your mobile 11 months or more? U R entitle...\n",
       "4     spam  SIX chances to win CASH! From 100 to 20,000 po...\n",
       "...    ...                                                ...\n",
       "1448   ham                      Alright i have a new goal now\n",
       "1449   ham  Sorry I missed you babe. I was up late and sle...\n",
       "1450   ham  Oops I was in the shower when u called. Hey a ...\n",
       "1451   ham           Dear reached railway. What happen to you\n",
       "1452   ham  Oh unintentionally not bad timing. Great. Fing...\n",
       "\n",
       "[1453 rows x 2 columns]"
      ]
     },
     "execution_count": 28,
     "metadata": {},
     "output_type": "execute_result"
    }
   ],
   "source": [
    "mail"
   ]
  },
  {
   "cell_type": "markdown",
   "id": "69a2135e",
   "metadata": {},
   "source": [
    "## It is clearly seen that v1 is the target and v2 is the features hence it needs renaming\n"
   ]
  },
  {
   "cell_type": "code",
   "execution_count": 29,
   "id": "2e7e268d",
   "metadata": {},
   "outputs": [],
   "source": [
    "new_columns=['target','text']"
   ]
  },
  {
   "cell_type": "code",
   "execution_count": 30,
   "id": "0721068e",
   "metadata": {},
   "outputs": [],
   "source": [
    "mail.columns=new_columns"
   ]
  },
  {
   "cell_type": "code",
   "execution_count": 31,
   "id": "d56a0950",
   "metadata": {},
   "outputs": [
    {
     "data": {
      "text/html": [
       "<div>\n",
       "<style scoped>\n",
       "    .dataframe tbody tr th:only-of-type {\n",
       "        vertical-align: middle;\n",
       "    }\n",
       "\n",
       "    .dataframe tbody tr th {\n",
       "        vertical-align: top;\n",
       "    }\n",
       "\n",
       "    .dataframe thead th {\n",
       "        text-align: right;\n",
       "    }\n",
       "</style>\n",
       "<table border=\"1\" class=\"dataframe\">\n",
       "  <thead>\n",
       "    <tr style=\"text-align: right;\">\n",
       "      <th></th>\n",
       "      <th>target</th>\n",
       "      <th>text</th>\n",
       "    </tr>\n",
       "  </thead>\n",
       "  <tbody>\n",
       "    <tr>\n",
       "      <th>0</th>\n",
       "      <td>spam</td>\n",
       "      <td>Free entry in 2 a wkly comp to win FA Cup fina...</td>\n",
       "    </tr>\n",
       "    <tr>\n",
       "      <th>1</th>\n",
       "      <td>spam</td>\n",
       "      <td>FreeMsg Hey there darling it's been 3 week's n...</td>\n",
       "    </tr>\n",
       "    <tr>\n",
       "      <th>2</th>\n",
       "      <td>spam</td>\n",
       "      <td>WINNER!! As a valued network customer you have...</td>\n",
       "    </tr>\n",
       "    <tr>\n",
       "      <th>3</th>\n",
       "      <td>spam</td>\n",
       "      <td>Had your mobile 11 months or more? U R entitle...</td>\n",
       "    </tr>\n",
       "    <tr>\n",
       "      <th>4</th>\n",
       "      <td>spam</td>\n",
       "      <td>SIX chances to win CASH! From 100 to 20,000 po...</td>\n",
       "    </tr>\n",
       "    <tr>\n",
       "      <th>...</th>\n",
       "      <td>...</td>\n",
       "      <td>...</td>\n",
       "    </tr>\n",
       "    <tr>\n",
       "      <th>1448</th>\n",
       "      <td>ham</td>\n",
       "      <td>Alright i have a new goal now</td>\n",
       "    </tr>\n",
       "    <tr>\n",
       "      <th>1449</th>\n",
       "      <td>ham</td>\n",
       "      <td>Sorry I missed you babe. I was up late and sle...</td>\n",
       "    </tr>\n",
       "    <tr>\n",
       "      <th>1450</th>\n",
       "      <td>ham</td>\n",
       "      <td>Oops I was in the shower when u called. Hey a ...</td>\n",
       "    </tr>\n",
       "    <tr>\n",
       "      <th>1451</th>\n",
       "      <td>ham</td>\n",
       "      <td>Dear reached railway. What happen to you</td>\n",
       "    </tr>\n",
       "    <tr>\n",
       "      <th>1452</th>\n",
       "      <td>ham</td>\n",
       "      <td>Oh unintentionally not bad timing. Great. Fing...</td>\n",
       "    </tr>\n",
       "  </tbody>\n",
       "</table>\n",
       "<p>1453 rows × 2 columns</p>\n",
       "</div>"
      ],
      "text/plain": [
       "     target                                               text\n",
       "0      spam  Free entry in 2 a wkly comp to win FA Cup fina...\n",
       "1      spam  FreeMsg Hey there darling it's been 3 week's n...\n",
       "2      spam  WINNER!! As a valued network customer you have...\n",
       "3      spam  Had your mobile 11 months or more? U R entitle...\n",
       "4      spam  SIX chances to win CASH! From 100 to 20,000 po...\n",
       "...     ...                                                ...\n",
       "1448    ham                      Alright i have a new goal now\n",
       "1449    ham  Sorry I missed you babe. I was up late and sle...\n",
       "1450    ham  Oops I was in the shower when u called. Hey a ...\n",
       "1451    ham           Dear reached railway. What happen to you\n",
       "1452    ham  Oh unintentionally not bad timing. Great. Fing...\n",
       "\n",
       "[1453 rows x 2 columns]"
      ]
     },
     "execution_count": 31,
     "metadata": {},
     "output_type": "execute_result"
    }
   ],
   "source": [
    "mail"
   ]
  },
  {
   "cell_type": "code",
   "execution_count": 32,
   "id": "242969ad",
   "metadata": {},
   "outputs": [],
   "source": [
    "mail=pd.DataFrame(mail,columns=['text','target'])"
   ]
  },
  {
   "cell_type": "code",
   "execution_count": 33,
   "id": "227ae545",
   "metadata": {},
   "outputs": [
    {
     "data": {
      "text/html": [
       "<div>\n",
       "<style scoped>\n",
       "    .dataframe tbody tr th:only-of-type {\n",
       "        vertical-align: middle;\n",
       "    }\n",
       "\n",
       "    .dataframe tbody tr th {\n",
       "        vertical-align: top;\n",
       "    }\n",
       "\n",
       "    .dataframe thead th {\n",
       "        text-align: right;\n",
       "    }\n",
       "</style>\n",
       "<table border=\"1\" class=\"dataframe\">\n",
       "  <thead>\n",
       "    <tr style=\"text-align: right;\">\n",
       "      <th></th>\n",
       "      <th>text</th>\n",
       "      <th>target</th>\n",
       "    </tr>\n",
       "  </thead>\n",
       "  <tbody>\n",
       "    <tr>\n",
       "      <th>0</th>\n",
       "      <td>Free entry in 2 a wkly comp to win FA Cup fina...</td>\n",
       "      <td>spam</td>\n",
       "    </tr>\n",
       "    <tr>\n",
       "      <th>1</th>\n",
       "      <td>FreeMsg Hey there darling it's been 3 week's n...</td>\n",
       "      <td>spam</td>\n",
       "    </tr>\n",
       "    <tr>\n",
       "      <th>2</th>\n",
       "      <td>WINNER!! As a valued network customer you have...</td>\n",
       "      <td>spam</td>\n",
       "    </tr>\n",
       "    <tr>\n",
       "      <th>3</th>\n",
       "      <td>Had your mobile 11 months or more? U R entitle...</td>\n",
       "      <td>spam</td>\n",
       "    </tr>\n",
       "    <tr>\n",
       "      <th>4</th>\n",
       "      <td>SIX chances to win CASH! From 100 to 20,000 po...</td>\n",
       "      <td>spam</td>\n",
       "    </tr>\n",
       "    <tr>\n",
       "      <th>...</th>\n",
       "      <td>...</td>\n",
       "      <td>...</td>\n",
       "    </tr>\n",
       "    <tr>\n",
       "      <th>1448</th>\n",
       "      <td>Alright i have a new goal now</td>\n",
       "      <td>ham</td>\n",
       "    </tr>\n",
       "    <tr>\n",
       "      <th>1449</th>\n",
       "      <td>Sorry I missed you babe. I was up late and sle...</td>\n",
       "      <td>ham</td>\n",
       "    </tr>\n",
       "    <tr>\n",
       "      <th>1450</th>\n",
       "      <td>Oops I was in the shower when u called. Hey a ...</td>\n",
       "      <td>ham</td>\n",
       "    </tr>\n",
       "    <tr>\n",
       "      <th>1451</th>\n",
       "      <td>Dear reached railway. What happen to you</td>\n",
       "      <td>ham</td>\n",
       "    </tr>\n",
       "    <tr>\n",
       "      <th>1452</th>\n",
       "      <td>Oh unintentionally not bad timing. Great. Fing...</td>\n",
       "      <td>ham</td>\n",
       "    </tr>\n",
       "  </tbody>\n",
       "</table>\n",
       "<p>1453 rows × 2 columns</p>\n",
       "</div>"
      ],
      "text/plain": [
       "                                                   text target\n",
       "0     Free entry in 2 a wkly comp to win FA Cup fina...   spam\n",
       "1     FreeMsg Hey there darling it's been 3 week's n...   spam\n",
       "2     WINNER!! As a valued network customer you have...   spam\n",
       "3     Had your mobile 11 months or more? U R entitle...   spam\n",
       "4     SIX chances to win CASH! From 100 to 20,000 po...   spam\n",
       "...                                                 ...    ...\n",
       "1448                      Alright i have a new goal now    ham\n",
       "1449  Sorry I missed you babe. I was up late and sle...    ham\n",
       "1450  Oops I was in the shower when u called. Hey a ...    ham\n",
       "1451           Dear reached railway. What happen to you    ham\n",
       "1452  Oh unintentionally not bad timing. Great. Fing...    ham\n",
       "\n",
       "[1453 rows x 2 columns]"
      ]
     },
     "execution_count": 33,
     "metadata": {},
     "output_type": "execute_result"
    }
   ],
   "source": [
    "mail"
   ]
  },
  {
   "cell_type": "markdown",
   "id": "af90c350",
   "metadata": {},
   "source": [
    "## Label Encoding\n",
    "### Since computers only understands numbers then we convert spam and ham to 0 and 1 respectively"
   ]
  },
  {
   "cell_type": "code",
   "execution_count": 34,
   "id": "c8a83db1",
   "metadata": {},
   "outputs": [],
   "source": [
    "#encoding\n",
    "mail['target'].replace('ham',0,inplace=True)\n"
   ]
  },
  {
   "cell_type": "code",
   "execution_count": 35,
   "id": "081b973b",
   "metadata": {},
   "outputs": [
    {
     "data": {
      "text/html": [
       "<div>\n",
       "<style scoped>\n",
       "    .dataframe tbody tr th:only-of-type {\n",
       "        vertical-align: middle;\n",
       "    }\n",
       "\n",
       "    .dataframe tbody tr th {\n",
       "        vertical-align: top;\n",
       "    }\n",
       "\n",
       "    .dataframe thead th {\n",
       "        text-align: right;\n",
       "    }\n",
       "</style>\n",
       "<table border=\"1\" class=\"dataframe\">\n",
       "  <thead>\n",
       "    <tr style=\"text-align: right;\">\n",
       "      <th></th>\n",
       "      <th>text</th>\n",
       "      <th>target</th>\n",
       "    </tr>\n",
       "  </thead>\n",
       "  <tbody>\n",
       "    <tr>\n",
       "      <th>0</th>\n",
       "      <td>Free entry in 2 a wkly comp to win FA Cup fina...</td>\n",
       "      <td>spam</td>\n",
       "    </tr>\n",
       "    <tr>\n",
       "      <th>1</th>\n",
       "      <td>FreeMsg Hey there darling it's been 3 week's n...</td>\n",
       "      <td>spam</td>\n",
       "    </tr>\n",
       "    <tr>\n",
       "      <th>2</th>\n",
       "      <td>WINNER!! As a valued network customer you have...</td>\n",
       "      <td>spam</td>\n",
       "    </tr>\n",
       "    <tr>\n",
       "      <th>3</th>\n",
       "      <td>Had your mobile 11 months or more? U R entitle...</td>\n",
       "      <td>spam</td>\n",
       "    </tr>\n",
       "    <tr>\n",
       "      <th>4</th>\n",
       "      <td>SIX chances to win CASH! From 100 to 20,000 po...</td>\n",
       "      <td>spam</td>\n",
       "    </tr>\n",
       "    <tr>\n",
       "      <th>...</th>\n",
       "      <td>...</td>\n",
       "      <td>...</td>\n",
       "    </tr>\n",
       "    <tr>\n",
       "      <th>1448</th>\n",
       "      <td>Alright i have a new goal now</td>\n",
       "      <td>0</td>\n",
       "    </tr>\n",
       "    <tr>\n",
       "      <th>1449</th>\n",
       "      <td>Sorry I missed you babe. I was up late and sle...</td>\n",
       "      <td>0</td>\n",
       "    </tr>\n",
       "    <tr>\n",
       "      <th>1450</th>\n",
       "      <td>Oops I was in the shower when u called. Hey a ...</td>\n",
       "      <td>0</td>\n",
       "    </tr>\n",
       "    <tr>\n",
       "      <th>1451</th>\n",
       "      <td>Dear reached railway. What happen to you</td>\n",
       "      <td>0</td>\n",
       "    </tr>\n",
       "    <tr>\n",
       "      <th>1452</th>\n",
       "      <td>Oh unintentionally not bad timing. Great. Fing...</td>\n",
       "      <td>0</td>\n",
       "    </tr>\n",
       "  </tbody>\n",
       "</table>\n",
       "<p>1453 rows × 2 columns</p>\n",
       "</div>"
      ],
      "text/plain": [
       "                                                   text target\n",
       "0     Free entry in 2 a wkly comp to win FA Cup fina...   spam\n",
       "1     FreeMsg Hey there darling it's been 3 week's n...   spam\n",
       "2     WINNER!! As a valued network customer you have...   spam\n",
       "3     Had your mobile 11 months or more? U R entitle...   spam\n",
       "4     SIX chances to win CASH! From 100 to 20,000 po...   spam\n",
       "...                                                 ...    ...\n",
       "1448                      Alright i have a new goal now      0\n",
       "1449  Sorry I missed you babe. I was up late and sle...      0\n",
       "1450  Oops I was in the shower when u called. Hey a ...      0\n",
       "1451           Dear reached railway. What happen to you      0\n",
       "1452  Oh unintentionally not bad timing. Great. Fing...      0\n",
       "\n",
       "[1453 rows x 2 columns]"
      ]
     },
     "execution_count": 35,
     "metadata": {},
     "output_type": "execute_result"
    }
   ],
   "source": [
    "mail"
   ]
  },
  {
   "cell_type": "code",
   "execution_count": 36,
   "id": "5d1327db",
   "metadata": {},
   "outputs": [],
   "source": [
    "mail['target'].replace('spam',1,inplace=True)"
   ]
  },
  {
   "cell_type": "code",
   "execution_count": 37,
   "id": "75923f8c",
   "metadata": {},
   "outputs": [
    {
     "data": {
      "text/html": [
       "<div>\n",
       "<style scoped>\n",
       "    .dataframe tbody tr th:only-of-type {\n",
       "        vertical-align: middle;\n",
       "    }\n",
       "\n",
       "    .dataframe tbody tr th {\n",
       "        vertical-align: top;\n",
       "    }\n",
       "\n",
       "    .dataframe thead th {\n",
       "        text-align: right;\n",
       "    }\n",
       "</style>\n",
       "<table border=\"1\" class=\"dataframe\">\n",
       "  <thead>\n",
       "    <tr style=\"text-align: right;\">\n",
       "      <th></th>\n",
       "      <th>text</th>\n",
       "      <th>target</th>\n",
       "    </tr>\n",
       "  </thead>\n",
       "  <tbody>\n",
       "    <tr>\n",
       "      <th>0</th>\n",
       "      <td>Free entry in 2 a wkly comp to win FA Cup fina...</td>\n",
       "      <td>1</td>\n",
       "    </tr>\n",
       "    <tr>\n",
       "      <th>1</th>\n",
       "      <td>FreeMsg Hey there darling it's been 3 week's n...</td>\n",
       "      <td>1</td>\n",
       "    </tr>\n",
       "    <tr>\n",
       "      <th>2</th>\n",
       "      <td>WINNER!! As a valued network customer you have...</td>\n",
       "      <td>1</td>\n",
       "    </tr>\n",
       "    <tr>\n",
       "      <th>3</th>\n",
       "      <td>Had your mobile 11 months or more? U R entitle...</td>\n",
       "      <td>1</td>\n",
       "    </tr>\n",
       "    <tr>\n",
       "      <th>4</th>\n",
       "      <td>SIX chances to win CASH! From 100 to 20,000 po...</td>\n",
       "      <td>1</td>\n",
       "    </tr>\n",
       "    <tr>\n",
       "      <th>...</th>\n",
       "      <td>...</td>\n",
       "      <td>...</td>\n",
       "    </tr>\n",
       "    <tr>\n",
       "      <th>1448</th>\n",
       "      <td>Alright i have a new goal now</td>\n",
       "      <td>0</td>\n",
       "    </tr>\n",
       "    <tr>\n",
       "      <th>1449</th>\n",
       "      <td>Sorry I missed you babe. I was up late and sle...</td>\n",
       "      <td>0</td>\n",
       "    </tr>\n",
       "    <tr>\n",
       "      <th>1450</th>\n",
       "      <td>Oops I was in the shower when u called. Hey a ...</td>\n",
       "      <td>0</td>\n",
       "    </tr>\n",
       "    <tr>\n",
       "      <th>1451</th>\n",
       "      <td>Dear reached railway. What happen to you</td>\n",
       "      <td>0</td>\n",
       "    </tr>\n",
       "    <tr>\n",
       "      <th>1452</th>\n",
       "      <td>Oh unintentionally not bad timing. Great. Fing...</td>\n",
       "      <td>0</td>\n",
       "    </tr>\n",
       "  </tbody>\n",
       "</table>\n",
       "<p>1453 rows × 2 columns</p>\n",
       "</div>"
      ],
      "text/plain": [
       "                                                   text  target\n",
       "0     Free entry in 2 a wkly comp to win FA Cup fina...       1\n",
       "1     FreeMsg Hey there darling it's been 3 week's n...       1\n",
       "2     WINNER!! As a valued network customer you have...       1\n",
       "3     Had your mobile 11 months or more? U R entitle...       1\n",
       "4     SIX chances to win CASH! From 100 to 20,000 po...       1\n",
       "...                                                 ...     ...\n",
       "1448                      Alright i have a new goal now       0\n",
       "1449  Sorry I missed you babe. I was up late and sle...       0\n",
       "1450  Oops I was in the shower when u called. Hey a ...       0\n",
       "1451           Dear reached railway. What happen to you       0\n",
       "1452  Oh unintentionally not bad timing. Great. Fing...       0\n",
       "\n",
       "[1453 rows x 2 columns]"
      ]
     },
     "execution_count": 37,
     "metadata": {},
     "output_type": "execute_result"
    }
   ],
   "source": [
    "mail"
   ]
  },
  {
   "cell_type": "code",
   "execution_count": 38,
   "id": "20c7c860",
   "metadata": {},
   "outputs": [
    {
     "data": {
      "text/html": [
       "<div>\n",
       "<style scoped>\n",
       "    .dataframe tbody tr th:only-of-type {\n",
       "        vertical-align: middle;\n",
       "    }\n",
       "\n",
       "    .dataframe tbody tr th {\n",
       "        vertical-align: top;\n",
       "    }\n",
       "\n",
       "    .dataframe thead th {\n",
       "        text-align: right;\n",
       "    }\n",
       "</style>\n",
       "<table border=\"1\" class=\"dataframe\">\n",
       "  <thead>\n",
       "    <tr style=\"text-align: right;\">\n",
       "      <th></th>\n",
       "      <th>text</th>\n",
       "      <th>target</th>\n",
       "    </tr>\n",
       "  </thead>\n",
       "  <tbody>\n",
       "    <tr>\n",
       "      <th>451</th>\n",
       "      <td>Thanks for your ringtone order, reference numb...</td>\n",
       "      <td>1</td>\n",
       "    </tr>\n",
       "    <tr>\n",
       "      <th>1030</th>\n",
       "      <td>In the end she might still vomit but its okay....</td>\n",
       "      <td>0</td>\n",
       "    </tr>\n",
       "    <tr>\n",
       "      <th>614</th>\n",
       "      <td>Get your garden ready for summer with a FREE s...</td>\n",
       "      <td>1</td>\n",
       "    </tr>\n",
       "    <tr>\n",
       "      <th>59</th>\n",
       "      <td>FREE entry into our å£250 weekly competition j...</td>\n",
       "      <td>1</td>\n",
       "    </tr>\n",
       "    <tr>\n",
       "      <th>883</th>\n",
       "      <td>fyi I'm at usf now, swing by the room whenever</td>\n",
       "      <td>0</td>\n",
       "    </tr>\n",
       "    <tr>\n",
       "      <th>566</th>\n",
       "      <td>Cashbin.co.uk (Get lots of cash this weekend!)...</td>\n",
       "      <td>1</td>\n",
       "    </tr>\n",
       "    <tr>\n",
       "      <th>765</th>\n",
       "      <td>I uploaded mine to Facebook</td>\n",
       "      <td>0</td>\n",
       "    </tr>\n",
       "    <tr>\n",
       "      <th>659</th>\n",
       "      <td>Oh k. . I will come tomorrow</td>\n",
       "      <td>0</td>\n",
       "    </tr>\n",
       "    <tr>\n",
       "      <th>1295</th>\n",
       "      <td>Havent shopping now lor i juz arrive only</td>\n",
       "      <td>0</td>\n",
       "    </tr>\n",
       "    <tr>\n",
       "      <th>943</th>\n",
       "      <td>Can not use foreign stamps in this country.</td>\n",
       "      <td>0</td>\n",
       "    </tr>\n",
       "  </tbody>\n",
       "</table>\n",
       "</div>"
      ],
      "text/plain": [
       "                                                   text  target\n",
       "451   Thanks for your ringtone order, reference numb...       1\n",
       "1030  In the end she might still vomit but its okay....       0\n",
       "614   Get your garden ready for summer with a FREE s...       1\n",
       "59    FREE entry into our å£250 weekly competition j...       1\n",
       "883      fyi I'm at usf now, swing by the room whenever       0\n",
       "566   Cashbin.co.uk (Get lots of cash this weekend!)...       1\n",
       "765                         I uploaded mine to Facebook       0\n",
       "659                        Oh k. . I will come tomorrow       0\n",
       "1295          Havent shopping now lor i juz arrive only       0\n",
       "943         Can not use foreign stamps in this country.       0"
      ]
     },
     "execution_count": 38,
     "metadata": {},
     "output_type": "execute_result"
    }
   ],
   "source": [
    "mail.sample(10)"
   ]
  },
  {
   "cell_type": "code",
   "execution_count": 39,
   "id": "72e28b5b",
   "metadata": {},
   "outputs": [
    {
     "data": {
      "text/plain": [
       "(1453, 2)"
      ]
     },
     "execution_count": 39,
     "metadata": {},
     "output_type": "execute_result"
    }
   ],
   "source": [
    "mail.shape"
   ]
  },
  {
   "cell_type": "code",
   "execution_count": 40,
   "id": "32b713bb",
   "metadata": {},
   "outputs": [],
   "source": [
    "def clean(text):\n",
    "    #Import regular expression and nltk\n",
    "    import re\n",
    "    import string\n",
    "    from nltk.stem import PorterStemmer\n",
    "    from nltk.tokenize import word_tokenize\n",
    "    \n",
    "    #Create an instance\n",
    "    stemmer = PorterStemmer()\n",
    "    \n",
    "    #Remove numbers and other special characters\n",
    "    text = re.sub(\"[^a-zA-Z]\",\" \",text)\n",
    "    \n",
    "    #tokenize the words\n",
    "    tokens = word_tokenize(text)\n",
    "    \n",
    "    #Stem each word by reducting them to their base or root words\n",
    "    stemmed_text = ' '.join([stemmer.stem(word) for word in tokens])\n",
    "    \n",
    "    return stemmed_text"
   ]
  },
  {
   "cell_type": "code",
   "execution_count": 41,
   "id": "d206390a",
   "metadata": {},
   "outputs": [],
   "source": [
    "mail.text = mail.text.apply(clean)"
   ]
  },
  {
   "cell_type": "code",
   "execution_count": 42,
   "id": "1648d976",
   "metadata": {},
   "outputs": [
    {
     "data": {
      "text/html": [
       "<div>\n",
       "<style scoped>\n",
       "    .dataframe tbody tr th:only-of-type {\n",
       "        vertical-align: middle;\n",
       "    }\n",
       "\n",
       "    .dataframe tbody tr th {\n",
       "        vertical-align: top;\n",
       "    }\n",
       "\n",
       "    .dataframe thead th {\n",
       "        text-align: right;\n",
       "    }\n",
       "</style>\n",
       "<table border=\"1\" class=\"dataframe\">\n",
       "  <thead>\n",
       "    <tr style=\"text-align: right;\">\n",
       "      <th></th>\n",
       "      <th>text</th>\n",
       "      <th>target</th>\n",
       "    </tr>\n",
       "  </thead>\n",
       "  <tbody>\n",
       "    <tr>\n",
       "      <th>0</th>\n",
       "      <td>free entri in a wkli comp to win fa cup final ...</td>\n",
       "      <td>1</td>\n",
       "    </tr>\n",
       "    <tr>\n",
       "      <th>1</th>\n",
       "      <td>freemsg hey there darl it s been week s now an...</td>\n",
       "      <td>1</td>\n",
       "    </tr>\n",
       "    <tr>\n",
       "      <th>2</th>\n",
       "      <td>winner as a valu network custom you have been ...</td>\n",
       "      <td>1</td>\n",
       "    </tr>\n",
       "    <tr>\n",
       "      <th>3</th>\n",
       "      <td>had your mobil month or more u r entitl to upd...</td>\n",
       "      <td>1</td>\n",
       "    </tr>\n",
       "    <tr>\n",
       "      <th>4</th>\n",
       "      <td>six chanc to win cash from to pound txt csh an...</td>\n",
       "      <td>1</td>\n",
       "    </tr>\n",
       "    <tr>\n",
       "      <th>...</th>\n",
       "      <td>...</td>\n",
       "      <td>...</td>\n",
       "    </tr>\n",
       "    <tr>\n",
       "      <th>1448</th>\n",
       "      <td>alright i have a new goal now</td>\n",
       "      <td>0</td>\n",
       "    </tr>\n",
       "    <tr>\n",
       "      <th>1449</th>\n",
       "      <td>sorri i miss you babe i wa up late and slept i...</td>\n",
       "      <td>0</td>\n",
       "    </tr>\n",
       "    <tr>\n",
       "      <th>1450</th>\n",
       "      <td>oop i wa in the shower when u call hey a park ...</td>\n",
       "      <td>0</td>\n",
       "    </tr>\n",
       "    <tr>\n",
       "      <th>1451</th>\n",
       "      <td>dear reach railway what happen to you</td>\n",
       "      <td>0</td>\n",
       "    </tr>\n",
       "    <tr>\n",
       "      <th>1452</th>\n",
       "      <td>oh unintent not bad time great finger the trai...</td>\n",
       "      <td>0</td>\n",
       "    </tr>\n",
       "  </tbody>\n",
       "</table>\n",
       "<p>1453 rows × 2 columns</p>\n",
       "</div>"
      ],
      "text/plain": [
       "                                                   text  target\n",
       "0     free entri in a wkli comp to win fa cup final ...       1\n",
       "1     freemsg hey there darl it s been week s now an...       1\n",
       "2     winner as a valu network custom you have been ...       1\n",
       "3     had your mobil month or more u r entitl to upd...       1\n",
       "4     six chanc to win cash from to pound txt csh an...       1\n",
       "...                                                 ...     ...\n",
       "1448                      alright i have a new goal now       0\n",
       "1449  sorri i miss you babe i wa up late and slept i...       0\n",
       "1450  oop i wa in the shower when u call hey a park ...       0\n",
       "1451              dear reach railway what happen to you       0\n",
       "1452  oh unintent not bad time great finger the trai...       0\n",
       "\n",
       "[1453 rows x 2 columns]"
      ]
     },
     "execution_count": 42,
     "metadata": {},
     "output_type": "execute_result"
    }
   ],
   "source": [
    "mail"
   ]
  },
  {
   "cell_type": "markdown",
   "id": "b51774f3",
   "metadata": {},
   "source": [
    "# 🔧Feature Engineering"
   ]
  },
  {
   "cell_type": "code",
   "execution_count": 43,
   "id": "3c52354e",
   "metadata": {},
   "outputs": [
    {
     "name": "stdout",
     "output_type": "stream",
     "text": [
      "0       free entri in a wkli comp to win fa cup final ...\n",
      "1       freemsg hey there darl it s been week s now an...\n",
      "2       winner as a valu network custom you have been ...\n",
      "3       had your mobil month or more u r entitl to upd...\n",
      "4       six chanc to win cash from to pound txt csh an...\n",
      "                              ...                        \n",
      "1448                        alright i have a new goal now\n",
      "1449    sorri i miss you babe i wa up late and slept i...\n",
      "1450    oop i wa in the shower when u call hey a park ...\n",
      "1451                dear reach railway what happen to you\n",
      "1452    oh unintent not bad time great finger the trai...\n",
      "Name: text, Length: 1453, dtype: object\n"
     ]
    }
   ],
   "source": [
    "X=mail.iloc[:,0]\n",
    "print(X)"
   ]
  },
  {
   "cell_type": "code",
   "execution_count": 44,
   "id": "be5038bc",
   "metadata": {},
   "outputs": [
    {
     "name": "stdout",
     "output_type": "stream",
     "text": [
      "0       1\n",
      "1       1\n",
      "2       1\n",
      "3       1\n",
      "4       1\n",
      "       ..\n",
      "1448    0\n",
      "1449    0\n",
      "1450    0\n",
      "1451    0\n",
      "1452    0\n",
      "Name: target, Length: 1453, dtype: int64\n"
     ]
    }
   ],
   "source": [
    "y=mail['target']\n",
    "print(y)"
   ]
  },
  {
   "cell_type": "code",
   "execution_count": 45,
   "id": "380a4bfa",
   "metadata": {},
   "outputs": [],
   "source": [
    "from sklearn.model_selection import train_test_split"
   ]
  },
  {
   "cell_type": "code",
   "execution_count": 46,
   "id": "1e3a2600",
   "metadata": {},
   "outputs": [],
   "source": [
    "#Splitting the data in to train and test data\n",
    "\n",
    "X_train,X_test,y_train,y_test=train_test_split(X,y,test_size=0.33,random_state=3)"
   ]
  },
  {
   "cell_type": "code",
   "execution_count": 47,
   "id": "2c57bab5",
   "metadata": {
    "scrolled": true
   },
   "outputs": [
    {
     "name": "stdout",
     "output_type": "stream",
     "text": [
      "(1453,) (973,) (480,)\n"
     ]
    }
   ],
   "source": [
    "print(X.shape,X_train.shape,X_test.shape)"
   ]
  },
  {
   "cell_type": "markdown",
   "id": "911b7b0b",
   "metadata": {},
   "source": [
    "Since the computer doesn't understands text, then we have to convert the column into a numerical values using the TfidfVectorizer"
   ]
  },
  {
   "cell_type": "code",
   "execution_count": 48,
   "id": "9f45d710",
   "metadata": {},
   "outputs": [],
   "source": [
    "from sklearn.feature_extraction.text import TfidfVectorizer"
   ]
  },
  {
   "cell_type": "code",
   "execution_count": 49,
   "id": "d8101990",
   "metadata": {},
   "outputs": [],
   "source": [
    "vectorizer=TfidfVectorizer(min_df=1,stop_words='english',lowercase=True)"
   ]
  },
  {
   "cell_type": "code",
   "execution_count": 50,
   "id": "f0ff03b6",
   "metadata": {},
   "outputs": [],
   "source": [
    "X_train_vect=vectorizer.fit_transform(X_train)"
   ]
  },
  {
   "cell_type": "code",
   "execution_count": 51,
   "id": "af62a255",
   "metadata": {},
   "outputs": [
    {
     "name": "stdout",
     "output_type": "stream",
     "text": [
      "  (0, 2215)\t1.0\n",
      "  (1, 1119)\t0.263365846178211\n",
      "  (1, 559)\t0.3063815896510335\n",
      "  (1, 2302)\t0.4460936063876451\n",
      "  (1, 1722)\t0.4460936063876451\n",
      "  (1, 2376)\t0.25017458071970256\n",
      "  (1, 266)\t0.4460936063876451\n",
      "  (1, 342)\t0.4209310095154031\n",
      "  (2, 1891)\t0.30072173911866723\n",
      "  (2, 1317)\t0.38501865957351794\n",
      "  (2, 1992)\t0.560589696565367\n",
      "  (2, 1373)\t0.30955988031946113\n",
      "  (2, 2314)\t0.26726574582076357\n",
      "  (2, 523)\t0.5289687713975915\n",
      "  (3, 1510)\t0.4310016382064291\n",
      "  (3, 2318)\t0.4310016382064291\n",
      "  (3, 562)\t0.4310016382064291\n",
      "  (3, 2240)\t0.3651298660981703\n",
      "  (3, 1005)\t0.4310016382064291\n",
      "  (3, 395)\t0.2576976330463324\n",
      "  (3, 1595)\t0.2392121699641296\n",
      "  (4, 2397)\t0.2870688685107801\n",
      "  (4, 655)\t0.32718600949955273\n",
      "  (4, 1332)\t0.23756289196445007\n",
      "  (4, 531)\t0.392467841680072\n",
      "  :\t:\n",
      "  (969, 1184)\t0.20920193772638085\n",
      "  (969, 332)\t0.1909268606093904\n",
      "  (969, 1119)\t0.17378102866814052\n",
      "  (970, 1086)\t0.4549756986577983\n",
      "  (970, 1526)\t0.4549756986577983\n",
      "  (970, 2455)\t0.35977626626128434\n",
      "  (970, 580)\t0.3470749675465001\n",
      "  (970, 2342)\t0.3195218420328026\n",
      "  (970, 2505)\t0.35977626626128434\n",
      "  (970, 1184)\t0.32335903126159354\n",
      "  (971, 2522)\t0.6698255801414034\n",
      "  (971, 829)\t0.5530890958130805\n",
      "  (971, 1138)\t0.4954050305365311\n",
      "  (972, 40)\t0.3010516191867982\n",
      "  (972, 897)\t0.3143858138578159\n",
      "  (972, 1139)\t0.2541634576453425\n",
      "  (972, 73)\t0.5002608816342603\n",
      "  (972, 1589)\t0.25013044081713015\n",
      "  (972, 337)\t0.282258127337473\n",
      "  (972, 284)\t0.2429854868199327\n",
      "  (972, 1166)\t0.3143858138578159\n",
      "  (972, 1482)\t0.17553226286181198\n",
      "  (972, 841)\t0.20765994938215482\n",
      "  (972, 2450)\t0.22203577112499956\n",
      "  (972, 732)\t0.26892393266645526\n"
     ]
    }
   ],
   "source": [
    "print(X_train_vect)"
   ]
  },
  {
   "cell_type": "code",
   "execution_count": 52,
   "id": "64db8e77",
   "metadata": {},
   "outputs": [],
   "source": [
    "X_test_vect=vectorizer.transform(X_test)"
   ]
  },
  {
   "cell_type": "code",
   "execution_count": 53,
   "id": "ca032ff4",
   "metadata": {},
   "outputs": [
    {
     "name": "stdout",
     "output_type": "stream",
     "text": [
      "  (0, 2160)\t0.15220502247197434\n",
      "  (0, 2059)\t0.16253479467997756\n",
      "  (0, 1849)\t0.3203305173882109\n",
      "  (0, 1728)\t0.21149223931644237\n",
      "  (0, 1399)\t0.2404843642717731\n",
      "  (0, 1309)\t0.5203745504364495\n",
      "  (0, 1255)\t0.3203305173882109\n",
      "  (0, 954)\t0.2533043365952543\n",
      "  (0, 798)\t0.279497865833749\n",
      "  (0, 336)\t0.3203305173882109\n",
      "  (0, 335)\t0.2894418089082379\n",
      "  (0, 332)\t0.2077765057993142\n",
      "  (1, 260)\t1.0\n",
      "  (2, 2486)\t0.2774365794524935\n",
      "  (2, 2389)\t0.29722671973065484\n",
      "  (2, 2084)\t0.2774365794524935\n",
      "  (2, 1821)\t0.29722671973065484\n",
      "  (2, 1782)\t0.18324059302850434\n",
      "  (2, 1602)\t0.24639492714497618\n",
      "  (2, 1146)\t0.29722671973065484\n",
      "  (2, 642)\t0.255871389323345\n",
      "  (2, 430)\t0.24096617168034634\n",
      "  (2, 332)\t0.4551426464653183\n",
      "  (2, 248)\t0.2155224552199781\n",
      "  (2, 187)\t0.3310581879936008\n",
      "  :\t:\n",
      "  (477, 833)\t0.27643820517225504\n",
      "  (477, 439)\t0.4795450545360981\n",
      "  (477, 250)\t0.4524955772143282\n",
      "  (478, 2428)\t0.32339717530932877\n",
      "  (478, 2016)\t0.3024757733727233\n",
      "  (478, 2015)\t0.33009834521536807\n",
      "  (478, 1886)\t0.290662300788943\n",
      "  (478, 1748)\t0.2751908534749793\n",
      "  (478, 1487)\t0.35683881898970077\n",
      "  (478, 1184)\t0.290662300788943\n",
      "  (478, 939)\t0.290662300788943\n",
      "  (478, 741)\t0.35683881898970077\n",
      "  (478, 364)\t0.21003948347280088\n",
      "  (478, 308)\t0.2588234162147864\n",
      "  (479, 2047)\t0.33853436837645695\n",
      "  (479, 1941)\t0.3174009730139437\n",
      "  (479, 1803)\t0.29626757765143047\n",
      "  (479, 1187)\t0.2409734817456851\n",
      "  (479, 1172)\t0.21238147491478185\n",
      "  (479, 958)\t0.3174009730139437\n",
      "  (479, 791)\t0.33853436837645695\n",
      "  (479, 631)\t0.25464826563980836\n",
      "  (479, 580)\t0.28580834685680234\n",
      "  (479, 228)\t0.3746621463732678\n",
      "  (479, 154)\t0.30240659037964607\n"
     ]
    }
   ],
   "source": [
    "print(X_test_vect)"
   ]
  },
  {
   "cell_type": "markdown",
   "id": "05077055",
   "metadata": {},
   "source": [
    "# 🤖 Machine Learning"
   ]
  },
  {
   "cell_type": "markdown",
   "id": "8ea5b6f7",
   "metadata": {},
   "source": [
    "## Building our model "
   ]
  },
  {
   "cell_type": "code",
   "execution_count": 54,
   "id": "a7162ac6",
   "metadata": {},
   "outputs": [],
   "source": [
    "models = [LogisticRegression(),DecisionTreeClassifier(),RandomForestClassifier(),SVC(),KNeighborsClassifier()]\n",
    "\n",
    "acc_scores = []\n",
    "precision_scores = []\n",
    "recall_scores = []\n",
    "f1_scores = []\n",
    "\n",
    "train_acc_scores = []\n",
    "test_acc_scores = []\n",
    "\n",
    "mis_cla_scores = []\n",
    "total_time_taken = []"
   ]
  },
  {
   "cell_type": "code",
   "execution_count": 55,
   "id": "d2f2322b",
   "metadata": {},
   "outputs": [
    {
     "name": "stdout",
     "output_type": "stream",
     "text": [
      "The accuracy score of LogisticRegression is 94.78999999999999%\n",
      "The misclassifed points are 25 out of 480\n",
      "The time taken in seconds is 0.074\n",
      "\n",
      "The accuracy score of DecisionTreeClassifier is 90.21000000000001%\n",
      "The misclassifed points are 47 out of 480\n",
      "The time taken in seconds is 0.089\n",
      "\n",
      "The accuracy score of RandomForestClassifier is 93.54%\n",
      "The misclassifed points are 31 out of 480\n",
      "The time taken in seconds is 1.263\n",
      "\n",
      "The accuracy score of SVC is 95.21%\n",
      "The misclassifed points are 23 out of 480\n",
      "The time taken in seconds is 0.598\n",
      "\n",
      "The accuracy score of KNeighborsClassifier is 90.21000000000001%\n",
      "The misclassifed points are 47 out of 480\n",
      "The time taken in seconds is 0.408\n",
      "\n"
     ]
    }
   ],
   "source": [
    "#Fitting the models\n",
    "for model in models:\n",
    "    start_time = time.time()\n",
    "    \n",
    "    model.fit(X_train_vect,y_train)\n",
    "    \n",
    "    y_test_pred = model.predict(X_test_vect)\n",
    "    y_train_pred = model.predict(X_train_vect)\n",
    "    \n",
    "    end_time = time.time()\n",
    "    time_taken = round(end_time - start_time,3) \n",
    "    \n",
    "    train_acc = round(accuracy_score(y_train,y_train_pred),4)\n",
    "    test_acc = round(accuracy_score(y_test,y_test_pred),4)\n",
    "    \n",
    "    precision = round(precision_score(y_test,y_test_pred),4)\n",
    "    recall = round(recall_score(y_test,y_test_pred),4)\n",
    "    f1 = round(f1_score(y_test,y_test_pred),4)\n",
    "    miscla = (y_test!=y_test_pred).sum()\n",
    "    \n",
    "    print(f\"The accuracy score of {model.__class__.__name__} is {test_acc*100}%\")\n",
    "    print(f\"The misclassifed points are {miscla} out of {X_test.shape[0]}\")\n",
    "    print(f\"The time taken in seconds is {time_taken}\")\n",
    "    \n",
    "    train_acc_scores.append(train_acc)\n",
    "    test_acc_scores.append(test_acc)\n",
    "    precision_scores.append(precision)\n",
    "    recall_scores.append(recall)\n",
    "    f1_scores.append(f1)\n",
    "    mis_cla_scores.append(miscla)\n",
    "    total_time_taken.append(time_taken)\n",
    "    \n",
    "    print()"
   ]
  },
  {
   "cell_type": "markdown",
   "id": "e33cece7",
   "metadata": {},
   "source": [
    "## 📊Visualizing the Models accuracy score"
   ]
  },
  {
   "cell_type": "code",
   "execution_count": 56,
   "id": "4d825a4d",
   "metadata": {},
   "outputs": [],
   "source": [
    "result={'models':['LR','LR','LR','LR',\n",
    "                  'DTC','DTC','DTC','DTC',\n",
    "                  'RFC','RFC','RFC','RFC',\n",
    "                  'SVC','SVC','SVC','SVC',\n",
    "                  'KNC','KNC','KNC','KNC',],\n",
    "        \n",
    "      \"metrics\":[\"Test Accuracy\", \"F1 Scores\", \"Precision\", \"Recall\",\n",
    "                 \"Test Accuracy\", \"F1 Scores\", \"Precision\", \"Recall\",\n",
    "                 \"Test Accuracy\", \"F1 Scores\", \"Precision\", \"Recall\",\n",
    "                 \"Test Accuracy\", \"F1 Scores\", \"Precision\", \"Recall\",\n",
    "                 \"Test Accuracy\", \"F1 Scores\", \"Precision\", \"Recall\",],\n",
    "        \n",
    "      \"values\":test_acc_scores+f1_scores+precision_scores+recall_scores\n",
    "      }"
   ]
  },
  {
   "cell_type": "code",
   "execution_count": 57,
   "id": "97ad3dcf",
   "metadata": {},
   "outputs": [],
   "source": [
    "other_result={\"models\":[\"LR\",\"DTC\",\"RFC\",\"SVC\",\"KNC\"],\n",
    "    \"mis_cla\":mis_cla_scores,\n",
    "      \"train_acc_score\":train_acc_scores,\n",
    "      \"test_acc_score\":test_acc_scores,\n",
    "      \"time_taken\":total_time_taken\n",
    "    }"
   ]
  },
  {
   "cell_type": "code",
   "execution_count": 58,
   "id": "e8c8521e",
   "metadata": {
    "scrolled": false
   },
   "outputs": [
    {
     "data": {
      "text/html": [
       "<div>\n",
       "<style scoped>\n",
       "    .dataframe tbody tr th:only-of-type {\n",
       "        vertical-align: middle;\n",
       "    }\n",
       "\n",
       "    .dataframe tbody tr th {\n",
       "        vertical-align: top;\n",
       "    }\n",
       "\n",
       "    .dataframe thead th {\n",
       "        text-align: right;\n",
       "    }\n",
       "</style>\n",
       "<table border=\"1\" class=\"dataframe\">\n",
       "  <thead>\n",
       "    <tr style=\"text-align: right;\">\n",
       "      <th></th>\n",
       "      <th>models</th>\n",
       "      <th>metrics</th>\n",
       "      <th>values</th>\n",
       "    </tr>\n",
       "  </thead>\n",
       "  <tbody>\n",
       "    <tr>\n",
       "      <th>0</th>\n",
       "      <td>LR</td>\n",
       "      <td>Test Accuracy</td>\n",
       "      <td>0.9479</td>\n",
       "    </tr>\n",
       "    <tr>\n",
       "      <th>1</th>\n",
       "      <td>LR</td>\n",
       "      <td>F1 Scores</td>\n",
       "      <td>0.9021</td>\n",
       "    </tr>\n",
       "    <tr>\n",
       "      <th>2</th>\n",
       "      <td>LR</td>\n",
       "      <td>Precision</td>\n",
       "      <td>0.9354</td>\n",
       "    </tr>\n",
       "    <tr>\n",
       "      <th>3</th>\n",
       "      <td>LR</td>\n",
       "      <td>Recall</td>\n",
       "      <td>0.9521</td>\n",
       "    </tr>\n",
       "    <tr>\n",
       "      <th>4</th>\n",
       "      <td>DTC</td>\n",
       "      <td>Test Accuracy</td>\n",
       "      <td>0.9021</td>\n",
       "    </tr>\n",
       "    <tr>\n",
       "      <th>5</th>\n",
       "      <td>DTC</td>\n",
       "      <td>F1 Scores</td>\n",
       "      <td>0.9433</td>\n",
       "    </tr>\n",
       "    <tr>\n",
       "      <th>6</th>\n",
       "      <td>DTC</td>\n",
       "      <td>Precision</td>\n",
       "      <td>0.8962</td>\n",
       "    </tr>\n",
       "    <tr>\n",
       "      <th>7</th>\n",
       "      <td>DTC</td>\n",
       "      <td>Recall</td>\n",
       "      <td>0.9300</td>\n",
       "    </tr>\n",
       "    <tr>\n",
       "      <th>8</th>\n",
       "      <td>RFC</td>\n",
       "      <td>Test Accuracy</td>\n",
       "      <td>0.9481</td>\n",
       "    </tr>\n",
       "    <tr>\n",
       "      <th>9</th>\n",
       "      <td>RFC</td>\n",
       "      <td>F1 Scores</td>\n",
       "      <td>0.8873</td>\n",
       "    </tr>\n",
       "    <tr>\n",
       "      <th>10</th>\n",
       "      <td>RFC</td>\n",
       "      <td>Precision</td>\n",
       "      <td>0.9952</td>\n",
       "    </tr>\n",
       "    <tr>\n",
       "      <th>11</th>\n",
       "      <td>RFC</td>\n",
       "      <td>Recall</td>\n",
       "      <td>0.9186</td>\n",
       "    </tr>\n",
       "    <tr>\n",
       "      <th>12</th>\n",
       "      <td>SVC</td>\n",
       "      <td>Test Accuracy</td>\n",
       "      <td>0.9763</td>\n",
       "    </tr>\n",
       "    <tr>\n",
       "      <th>13</th>\n",
       "      <td>SVC</td>\n",
       "      <td>F1 Scores</td>\n",
       "      <td>0.9953</td>\n",
       "    </tr>\n",
       "    <tr>\n",
       "      <th>14</th>\n",
       "      <td>SVC</td>\n",
       "      <td>Precision</td>\n",
       "      <td>1.0000</td>\n",
       "    </tr>\n",
       "    <tr>\n",
       "      <th>15</th>\n",
       "      <td>SVC</td>\n",
       "      <td>Recall</td>\n",
       "      <td>0.8966</td>\n",
       "    </tr>\n",
       "    <tr>\n",
       "      <th>16</th>\n",
       "      <td>KNC</td>\n",
       "      <td>Test Accuracy</td>\n",
       "      <td>0.8750</td>\n",
       "    </tr>\n",
       "    <tr>\n",
       "      <th>17</th>\n",
       "      <td>KNC</td>\n",
       "      <td>F1 Scores</td>\n",
       "      <td>0.8879</td>\n",
       "    </tr>\n",
       "    <tr>\n",
       "      <th>18</th>\n",
       "      <td>KNC</td>\n",
       "      <td>Precision</td>\n",
       "      <td>0.9052</td>\n",
       "    </tr>\n",
       "    <tr>\n",
       "      <th>19</th>\n",
       "      <td>KNC</td>\n",
       "      <td>Recall</td>\n",
       "      <td>0.7974</td>\n",
       "    </tr>\n",
       "  </tbody>\n",
       "</table>\n",
       "</div>"
      ],
      "text/plain": [
       "   models        metrics  values\n",
       "0      LR  Test Accuracy  0.9479\n",
       "1      LR      F1 Scores  0.9021\n",
       "2      LR      Precision  0.9354\n",
       "3      LR         Recall  0.9521\n",
       "4     DTC  Test Accuracy  0.9021\n",
       "5     DTC      F1 Scores  0.9433\n",
       "6     DTC      Precision  0.8962\n",
       "7     DTC         Recall  0.9300\n",
       "8     RFC  Test Accuracy  0.9481\n",
       "9     RFC      F1 Scores  0.8873\n",
       "10    RFC      Precision  0.9952\n",
       "11    RFC         Recall  0.9186\n",
       "12    SVC  Test Accuracy  0.9763\n",
       "13    SVC      F1 Scores  0.9953\n",
       "14    SVC      Precision  1.0000\n",
       "15    SVC         Recall  0.8966\n",
       "16    KNC  Test Accuracy  0.8750\n",
       "17    KNC      F1 Scores  0.8879\n",
       "18    KNC      Precision  0.9052\n",
       "19    KNC         Recall  0.7974"
      ]
     },
     "execution_count": 58,
     "metadata": {},
     "output_type": "execute_result"
    }
   ],
   "source": [
    "pd.DataFrame(result)"
   ]
  },
  {
   "cell_type": "code",
   "execution_count": 59,
   "id": "a42be493",
   "metadata": {
    "scrolled": false
   },
   "outputs": [
    {
     "data": {
      "image/png": "[encoded data removed]",
      "text/plain": [
       "<Figure size 720x432 with 1 Axes>"
      ]
     },
     "metadata": {},
     "output_type": "display_data"
    }
   ],
   "source": [
    "#Models in percentage\n",
    "plt.figure(figsize=(10,6))\n",
    "sns.barplot(result['models'],result['values'],hue=result[\"metrics\"])\n",
    "plt.title('Model Accuracy',fontweight=\"bold\")\n",
    "plt.xticks(rotation=45)\n",
    "plt.show()"
   ]
  },
  {
   "cell_type": "code",
   "execution_count": 60,
   "id": "985268c6",
   "metadata": {},
   "outputs": [
    {
     "data": {
      "text/html": [
       "<div>\n",
       "<style scoped>\n",
       "    .dataframe tbody tr th:only-of-type {\n",
       "        vertical-align: middle;\n",
       "    }\n",
       "\n",
       "    .dataframe tbody tr th {\n",
       "        vertical-align: top;\n",
       "    }\n",
       "\n",
       "    .dataframe thead th {\n",
       "        text-align: right;\n",
       "    }\n",
       "</style>\n",
       "<table border=\"1\" class=\"dataframe\">\n",
       "  <thead>\n",
       "    <tr style=\"text-align: right;\">\n",
       "      <th></th>\n",
       "      <th>models</th>\n",
       "      <th>mis_cla</th>\n",
       "      <th>train_acc_score</th>\n",
       "      <th>test_acc_score</th>\n",
       "      <th>time_taken</th>\n",
       "    </tr>\n",
       "  </thead>\n",
       "  <tbody>\n",
       "    <tr>\n",
       "      <th>0</th>\n",
       "      <td>LR</td>\n",
       "      <td>25</td>\n",
       "      <td>0.9651</td>\n",
       "      <td>0.9479</td>\n",
       "      <td>0.074</td>\n",
       "    </tr>\n",
       "    <tr>\n",
       "      <th>1</th>\n",
       "      <td>DTC</td>\n",
       "      <td>47</td>\n",
       "      <td>1.0000</td>\n",
       "      <td>0.9021</td>\n",
       "      <td>0.089</td>\n",
       "    </tr>\n",
       "    <tr>\n",
       "      <th>2</th>\n",
       "      <td>RFC</td>\n",
       "      <td>31</td>\n",
       "      <td>1.0000</td>\n",
       "      <td>0.9354</td>\n",
       "      <td>1.263</td>\n",
       "    </tr>\n",
       "    <tr>\n",
       "      <th>3</th>\n",
       "      <td>SVC</td>\n",
       "      <td>23</td>\n",
       "      <td>0.9990</td>\n",
       "      <td>0.9521</td>\n",
       "      <td>0.598</td>\n",
       "    </tr>\n",
       "    <tr>\n",
       "      <th>4</th>\n",
       "      <td>KNC</td>\n",
       "      <td>47</td>\n",
       "      <td>0.9096</td>\n",
       "      <td>0.9021</td>\n",
       "      <td>0.408</td>\n",
       "    </tr>\n",
       "  </tbody>\n",
       "</table>\n",
       "</div>"
      ],
      "text/plain": [
       "  models  mis_cla  train_acc_score  test_acc_score  time_taken\n",
       "0     LR       25           0.9651          0.9479       0.074\n",
       "1    DTC       47           1.0000          0.9021       0.089\n",
       "2    RFC       31           1.0000          0.9354       1.263\n",
       "3    SVC       23           0.9990          0.9521       0.598\n",
       "4    KNC       47           0.9096          0.9021       0.408"
      ]
     },
     "execution_count": 60,
     "metadata": {},
     "output_type": "execute_result"
    }
   ],
   "source": [
    "pd.DataFrame(other_result)"
   ]
  },
  {
   "cell_type": "code",
   "execution_count": 61,
   "id": "9df86bfb",
   "metadata": {
    "scrolled": false
   },
   "outputs": [
    {
     "data": {
      "image/png": "[encoded data removed]",
      "text/plain": [
       "<Figure size 720x432 with 1 Axes>"
      ]
     },
     "metadata": {},
     "output_type": "display_data"
    }
   ],
   "source": [
    "plt.figure(figsize=(10,6))\n",
    "sns.barplot(other_result['models'],other_result['mis_cla'])\n",
    "plt.title('Model (Misclassified points)',fontweight=\"bold\")\n",
    "plt.show()"
   ]
  },
  {
   "cell_type": "code",
   "execution_count": 62,
   "id": "caf2c4c7",
   "metadata": {
    "scrolled": false
   },
   "outputs": [
    {
     "data": {
      "image/png": "[encoded data removed]",
      "text/plain": [
       "<Figure size 720x432 with 1 Axes>"
      ]
     },
     "metadata": {},
     "output_type": "display_data"
    }
   ],
   "source": [
    "plt.figure(figsize=(10,6))\n",
    "sns.barplot(other_result['models'],other_result['time_taken'])\n",
    "plt.title('Time Complexity of Algorithms',fontweight=\"bold\")\n",
    "plt.xticks(rotation=45)\n",
    "plt.show()"
   ]
  },
  {
   "cell_type": "markdown",
   "id": "7784f849",
   "metadata": {},
   "source": [
    "Decision tree takes lesser time to execute and seems the best out of all with a good accuracy score, and other metric score"
   ]
  },
  {
   "cell_type": "markdown",
   "id": "846bf295",
   "metadata": {},
   "source": [
    "# Conclusion:"
   ]
  },
  {
   "cell_type": "markdown",
   "id": "c9ff2268",
   "metadata": {},
   "source": [
    "It is evident that Support Vector Classifier is the best model after achieving the following:\n",
    "* Accuracy: 95.21%\n",
    "* F1 Score: 99.53%\n",
    "* Precision: 100%\n",
    "* Recall: 89.66%\n",
    "* Miusclassified points: 23 \n",
    "* Time taken: 0.598 sec"
   ]
  },
  {
   "cell_type": "code",
   "execution_count": 63,
   "id": "140c67b6",
   "metadata": {},
   "outputs": [
    {
     "data": {
      "text/plain": [
       "SVC()"
      ]
     },
     "execution_count": 63,
     "metadata": {},
     "output_type": "execute_result"
    }
   ],
   "source": [
    "svc = SVC()\n",
    "svc.fit(X_train_vect,y_train)"
   ]
  },
  {
   "cell_type": "markdown",
   "id": "f1bb495c",
   "metadata": {},
   "source": [
    "## Testing new dataset on the model"
   ]
  },
  {
   "cell_type": "code",
   "execution_count": 64,
   "id": "c78cad68",
   "metadata": {
    "scrolled": true
   },
   "outputs": [
    {
     "name": "stdout",
     "output_type": "stream",
     "text": [
      "Enter a mail: URGENT: Your account security has been compromised. Click the link to secure your account immediately\n"
     ]
    }
   ],
   "source": [
    "input_mail=[]\n",
    "entered_mail=input('Enter a mail: ')\n",
    "input_mail.append(entered_mail)"
   ]
  },
  {
   "cell_type": "code",
   "execution_count": 65,
   "id": "ad7518af",
   "metadata": {},
   "outputs": [],
   "source": [
    "#Vectorise the mail\n",
    "v_mail=vectorizer.transform(input_mail)"
   ]
  },
  {
   "cell_type": "code",
   "execution_count": 66,
   "id": "4665398b",
   "metadata": {},
   "outputs": [
    {
     "name": "stdout",
     "output_type": "stream",
     "text": [
      "  (0, 2317)\t0.27887449450005924\n",
      "  (0, 1179)\t0.4616664166778622\n",
      "  (0, 371)\t0.4616664166778622\n",
      "  (0, 14)\t0.7042423274278404\n"
     ]
    }
   ],
   "source": [
    "print(v_mail)"
   ]
  },
  {
   "cell_type": "code",
   "execution_count": 67,
   "id": "d4e9e9ba",
   "metadata": {},
   "outputs": [
    {
     "data": {
      "text/plain": [
       "0"
      ]
     },
     "execution_count": 67,
     "metadata": {},
     "output_type": "execute_result"
    }
   ],
   "source": [
    "prediction=svc.predict(v_mail)\n",
    "prediction[0]"
   ]
  },
  {
   "cell_type": "code",
   "execution_count": 68,
   "id": "b2aee64b",
   "metadata": {},
   "outputs": [
    {
     "name": "stdout",
     "output_type": "stream",
     "text": [
      "The mail is a non-spam mail\n"
     ]
    }
   ],
   "source": [
    "if prediction[0]==0:\n",
    "    print(\"The mail is a non-spam mail\")\n",
    "else:\n",
    "    print(\"The mail is a spam mail\")"
   ]
  },
  {
   "cell_type": "markdown",
   "id": "3328d827",
   "metadata": {},
   "source": [
    "## Saving the model"
   ]
  },
  {
   "cell_type": "code",
   "execution_count": 69,
   "id": "385e436d",
   "metadata": {},
   "outputs": [],
   "source": [
    "import joblib"
   ]
  },
  {
   "cell_type": "code",
   "execution_count": 70,
   "id": "24f718ec",
   "metadata": {},
   "outputs": [
    {
     "data": {
      "text/plain": [
       "['spam-detector.sav']"
      ]
     },
     "execution_count": 70,
     "metadata": {},
     "output_type": "execute_result"
    }
   ],
   "source": [
    "joblib.dump(svc,'spam-detector.sav')"
   ]
  },
  {
   "cell_type": "code",
   "execution_count": 71,
   "id": "13b0bd19",
   "metadata": {},
   "outputs": [
    {
     "data": {
      "text/plain": [
       "['spam_vect.sav']"
      ]
     },
     "execution_count": 71,
     "metadata": {},
     "output_type": "execute_result"
    }
   ],
   "source": [
    "joblib.dump(vectorizer,\"spam_vect.sav\")"
   ]
  },
  {
   "cell_type": "markdown",
   "id": "b46e5fc7",
   "metadata": {},
   "source": [
    "# The End! Thank you for your time🤗😍😊"
   ]
  }
 ],
 "metadata": {
  "kernelspec": {
   "display_name": "Python 3 (ipykernel)",
   "language": "python",
   "name": "python3"
  },
  "language_info": {
   "codemirror_mode": {
    "name": "ipython",
    "version": 3
   },
   "file_extension": ".py",
   "mimetype": "text/x-python",
   "name": "python",
   "nbconvert_exporter": "python",
   "pygments_lexer": "ipython3",
   "version": "3.9.7"
  }
 },
 "nbformat": 4,
 "nbformat_minor": 5
}
